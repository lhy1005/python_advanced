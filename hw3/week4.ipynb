{
 "cells": [
  {
   "cell_type": "code",
   "execution_count": 1,
   "metadata": {},
   "outputs": [],
   "source": [
    "import pandas as pd\n",
    "df = pd.read_excel('H1.xls')\n",
    "url_col = \"Online Document Address （必填）\"\n",
    "stu_name_col = \"Name （必填）\"\n",
    "stu_id_col = \"Student Number（必填）\""
   ]
  },
  {
   "cell_type": "code",
   "execution_count": 2,
   "metadata": {},
   "outputs": [
    {
     "name": "stdout",
     "output_type": "stream",
     "text": [
      "https://github.com/LawlietLyf/Python-Basic-HW/blob/main/HW2.py\n",
      "https://github.com/jason-phbs/pythonbasic/blob/main/HW2.ipynb\n",
      "https://docs.qq.com/doc/DY3BPaklRZE92aHJs\n",
      "https://docs.qq.com/doc/DQW92Q25NR2ZpQmZT\n",
      "https://docs.qq.com/doc/DZk9CSm1CUXpMZWVM\n",
      "https://disk.pku.edu.cn:443/link/2E694687D485081C461FC768ACDD8401\n",
      "https://github.com/ruminator-l/Homework-of-Python-Basic-2023-Autumn-.git\n",
      "https://github.com/saa51/course-python-basic\n",
      "https://github.com/Allwings1/Python-Basci-Homework.git\n",
      "https://docs.qq.com/doc/DS3hYVWVtZGVWWXFT\n",
      "https://github.com/xh-yh2001/2023-Python-Basic.git\n",
      "https://anaconda.cloud/api/nbserve/launch_notebook?nb_url=https%3A%2F%2Fanaconda.cloud%2Fapi%2Fprojects%2Ff1861fd9-ba9f-4999-9191-76d7ff03072f%2Fversions%2Fae2a9e7a-1ed2-4c60-b0f8-815ffd9b69e1%2Ffiles%2FHomework_Python_Basic.ipynb\n",
      "https://github.com/zxwang-Stat/Python-Class/blob/main/HW_Week%203.ipynb\n",
      "https://docs.qq.com/doc/DZmtFR2FzYnhqRURr\n",
      "https://pan.baidu.com/s/1N1jXWyQILaZsRmB7-6BHVQ?pwd=2yzf \n",
      "https://disk.pku.edu.cn:443/link/D8B36665950E94479816930187502F64\n",
      "https://share.weiyun.com/PwP7FPQ5\n",
      "https://pan.baidu.com/s/1zrGKn3VIccPFzgoW__v3Yw?pwd=pm6s \n",
      "https://docs.qq.com/doc/DRFpMcGdHWXhOQnNi\n",
      "https://docs.qq.com/pdf/DSVdDcENueE9hWkht\n",
      "https://yjvqge5m7j.feishu.cn/docx/GDW7dbKdzoQoGwxRcVecbNr9nDb?from=from_copylink\n",
      "https://kdocs.cn/l/cg9tgl8E8zaH\n",
      "https://docs.qq.com/doc/DUnF6alp0VWRnaVpo\n",
      "https://docs.qq.com/doc/DUU5pZkZyUkVLeE1I\n",
      "https://docs.qq.com/doc/DYmNaeHNMbUVYWXJi\n",
      "https://github.com/FelicityLam/python_basic/blob/main/py_hw_2.ipynb\n",
      "https://docs.qq.com/doc/DRnpZVG9icHNRdGpm\n",
      "https://disk.pku.edu.cn:443/link/166F981C23BF393B90B091E249811938\n",
      "https://docs.qq.com/doc/DUXRDWnB6UmlVVXdO\n",
      "https://share.weiyun.com/0u1Jp1F0\n",
      "https://docs.qq.com/doc/DQU5CaGRQUFhVWmRH\n",
      "https://docs.qq.com/doc/DWkVuY3FwQVRId0Fj\n",
      "https://docs.qq.com/doc/DTVZ4clJacmhwcGFQ\n",
      "https://docs.qq.com/doc/DZHlYRENHa0JmanRu\n",
      "https://1drv.ms/w/s!AhTYbqQQH7Bog5M88TTVCdW47ZSRww?e=pFJSXz\n"
     ]
    }
   ],
   "source": [
    "# process url\n",
    "def process_url(url):\n",
    "    # remain the last url\n",
    "    while len(url.split('\\n')) > 1:\n",
    "        # url starts with https://\n",
    "        if url.split('\\n')[1].startswith('https://'):\n",
    "            url = url.split('\\n')[1]\n",
    "        else:\n",
    "            break\n",
    "    start = url.find('https://')\n",
    "    url = url[start:]\n",
    "    url = url.split('\\n')[0]  # remove redundant line\n",
    "    url = url.replace(' 提取码: ', '?pwd=')  # baidu netdisk\n",
    "    return url\n",
    "df['processed_url'] = df[url_col].apply(process_url)\n",
    "for item in df['processed_url']:\n",
    "    print(item)"
   ]
  },
  {
   "cell_type": "code",
   "execution_count": 3,
   "metadata": {},
   "outputs": [],
   "source": [
    "new_df = df[[stu_name_col, stu_id_col, 'processed_url']]\n",
    "new_df.columns = ['stu_name', 'stu_id', 'url']\n",
    "new_df.to_excel('New_H1.xls', index=False,  engine='openpyxl')"
   ]
  },
  {
   "cell_type": "markdown",
   "metadata": {},
   "source": []
  }
 ],
 "metadata": {
  "kernelspec": {
   "display_name": "base",
   "language": "python",
   "name": "python3"
  },
  "language_info": {
   "codemirror_mode": {
    "name": "ipython",
    "version": 3
   },
   "file_extension": ".py",
   "mimetype": "text/x-python",
   "name": "python",
   "nbconvert_exporter": "python",
   "pygments_lexer": "ipython3",
   "version": "3.11.4"
  }
 },
 "nbformat": 4,
 "nbformat_minor": 2
}
