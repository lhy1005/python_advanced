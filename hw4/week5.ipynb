{
 "cells": [
  {
   "cell_type": "code",
   "execution_count": 13,
   "metadata": {},
   "outputs": [],
   "source": [
    "import os\n",
    "from PyPDF2 import PdfMerger\n",
    "\n",
    "folder = './mypdfs'\n",
    "\n",
    "# get all the pdf files in the folder (end with .pdf)\n",
    "pdf_file_list = [f for f in os.listdir(folder) if f.endswith('.pdf')]\n",
    "\n",
    "# merge the first page of all the pdf files\n",
    "merger = PdfMerger()\n",
    "for filename in pdf_file_list:\n",
    "    # extract the first page of each pdf file, add them to the merged pdf file\n",
    "    merger.append(open(os.path.join(folder, filename), 'rb'), pages=(0,1))\n",
    "\n",
    "# write the merged pdf file to a new file\n",
    "with open('merged.pdf', 'wb') as fout:\n",
    "    merger.write(fout)"
   ]
  },
  {
   "cell_type": "code",
   "execution_count": null,
   "metadata": {},
   "outputs": [],
   "source": []
  }
 ],
 "metadata": {
  "kernelspec": {
   "display_name": "base",
   "language": "python",
   "name": "python3"
  },
  "language_info": {
   "codemirror_mode": {
    "name": "ipython",
    "version": 3
   },
   "file_extension": ".py",
   "mimetype": "text/x-python",
   "name": "python",
   "nbconvert_exporter": "python",
   "pygments_lexer": "ipython3",
   "version": "3.11.4"
  }
 },
 "nbformat": 4,
 "nbformat_minor": 2
}
