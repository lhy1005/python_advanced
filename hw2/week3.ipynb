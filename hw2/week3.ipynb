{
 "cells": [
  {
   "cell_type": "markdown",
   "metadata": {},
   "source": [
    "### 04 Homework1\n",
    "Given two strings s and t, return true if t is an anagram of s, and false otherwise. (Using Dictionary)\n",
    "\n",
    "Example :\n",
    "```\n",
    "Input: s = \"anagram\", t = \"nagaram\"\n",
    "Output: True\n",
    "print(IsAnagram(s,t))\n",
    "def IsAnagram(s,t):\n",
    "return True or False\n",
    "```"
   ]
  },
  {
   "cell_type": "code",
   "execution_count": 8,
   "metadata": {},
   "outputs": [],
   "source": [
    "def IsAnagram(s, t):\n",
    "    dict1 = {}\n",
    "    dict2 = {}\n",
    "    for c in s:\n",
    "        if c in dict1:\n",
    "            dict1[c] += 1\n",
    "        else:\n",
    "            dict1[c] = 1\n",
    "    for c in t:\n",
    "        if c in dict2:\n",
    "            dict2[c] += 1\n",
    "        else:\n",
    "            dict2[c] = 1\n",
    "    return dict1 == dict2"
   ]
  },
  {
   "cell_type": "code",
   "execution_count": 24,
   "metadata": {},
   "outputs": [
    {
     "name": "stdout",
     "output_type": "stream",
     "text": [
      "True\n",
      "False\n",
      "False\n"
     ]
    }
   ],
   "source": [
    "# TEST CASES\n",
    "print(IsAnagram(\"anagram\", \"nagaram\"))\n",
    "print(IsAnagram(\"rat\", \"car\"))\n",
    "print(IsAnagram(\"abc\", \"ab\"))"
   ]
  },
  {
   "cell_type": "markdown",
   "metadata": {},
   "source": [
    "### 04 Homework2\n",
    "Given a non-negative integer x, compute and return the square root of x. Since the return type is an integer, the decimal digits are truncated, and only the integer part of the result is returned.\n",
    "\n",
    "Note: You are not allowed to use any built-in exponent function or operator, such as pow(x, 0.5) or x ** 0.5\n",
    "\n",
    "Example:\n",
    "```\n",
    "Input: x = 8\n",
    "Output: 2\n",
    "def MySqrt(x):\n",
    "return xxx\n",
    "```"
   ]
  },
  {
   "cell_type": "code",
   "execution_count": 25,
   "metadata": {},
   "outputs": [],
   "source": [
    "# find sqrt of a number\n",
    "def MySqrt(x):\n",
    "    # binary search\n",
    "    if x == 0:\n",
    "        return 0\n",
    "    left = 1\n",
    "    right = x\n",
    "    while left <= right:\n",
    "        mid = (left + right) // 2\n",
    "        if mid * mid == x:\n",
    "            return mid\n",
    "        elif mid * mid < x:\n",
    "            left = mid + 1\n",
    "        else:\n",
    "            right = mid - 1\n",
    "    return right"
   ]
  },
  {
   "cell_type": "code",
   "execution_count": 26,
   "metadata": {},
   "outputs": [
    {
     "name": "stdout",
     "output_type": "stream",
     "text": [
      "0\n",
      "2\n",
      "2\n",
      "2\n",
      "3\n",
      "5\n",
      "18\n"
     ]
    }
   ],
   "source": [
    "# TEST CASES\n",
    "print(MySqrt(0))\n",
    "print(MySqrt(4))\n",
    "print(MySqrt(8))\n",
    "print(MySqrt(7))\n",
    "print(MySqrt(11))\n",
    "print(MySqrt(31))\n",
    "print(MySqrt(360))"
   ]
  },
  {
   "cell_type": "markdown",
   "metadata": {},
   "source": [
    "### 05 Homework1\n",
    "A robot is located at the top-left corner of a m x n grid (marked 'Start' in the diagram below).\n",
    "\n",
    "The robot can only move either down or right at any point in time. The robot is trying to reach \n",
    "the bottom-right corner of the grid (marked 'Finish' in the diagram below).\n",
    "\n",
    "How many possible unique paths are there?\n",
    "```\n",
    "Input: m = 3, n = 2\n",
    "Output: 3\n",
    "Explanation:\n",
    "From the top-left corner, there are a total of 3 ways to \n",
    "reach the bottom-right corner:\n",
    "1. Right -> Down -> Down\n",
    "2. Down -> Down -> Right\n",
    "3. Down -> Right -> Down\n",
    "```"
   ]
  },
  {
   "cell_type": "code",
   "execution_count": 27,
   "metadata": {},
   "outputs": [],
   "source": [
    "def robot_path(m, n):\n",
    "    dp = [[0] * n] * m\n",
    "    for i in range(m):\n",
    "        dp[i][0] = 1\n",
    "    for j in range(n):\n",
    "        dp[0][j] = 1\n",
    "    for i in range(1, m):\n",
    "        for j in range(1, n):\n",
    "            dp[i][j] = dp[i][j-1] + dp[i-1][j]\n",
    "    return dp[m-1][n-1] "
   ]
  },
  {
   "cell_type": "code",
   "execution_count": 28,
   "metadata": {},
   "outputs": [
    {
     "name": "stdout",
     "output_type": "stream",
     "text": [
      "3\n",
      "1\n"
     ]
    }
   ],
   "source": [
    "# TEST CASES\n",
    "print(robot_path(3, 2))\n",
    "print(robot_path(1, 3))"
   ]
  },
  {
   "cell_type": "markdown",
   "metadata": {},
   "source": [
    "### 05 Homework2\n",
    "Given an integer array nums, return the length of the longest strictly increasing subsequence.\n",
    "\n",
    "A subsequence is a sequence that can be derived from an array by deleting some or no \n",
    "elements without changing the order of the remaining elements. For example, [3,6,2,7] is a \n",
    "subsequence of the array [0,3,1,6,2,2,7].\n",
    "```\n",
    "Example 1:\n",
    "Input: nums = [10,9,2,5,3,7,101,18]\n",
    "Output: 4\n",
    "Explanation: The longest increasing subsequence is [2,3,7,101], therefore the length is 4.\n",
    "Example 2:\n",
    "Input: nums = [0,1,0,3,2,3]\n",
    "Output: 4\n",
    "```"
   ]
  },
  {
   "cell_type": "code",
   "execution_count": 29,
   "metadata": {},
   "outputs": [],
   "source": [
    "def longestSubsequence(nums):\n",
    "    length = len(nums)\n",
    "    dp = [1]*length # dp[i] end with the ith item, the result\n",
    "    res = 1\n",
    "    for i in range(1, length):\n",
    "        for j in range(i):\n",
    "            if nums[i] > nums[j]:\n",
    "                dp[i] = max(dp[i], dp[j]+1)\n",
    "        res = max(res, dp[i])\n",
    "    return res"
   ]
  },
  {
   "cell_type": "code",
   "execution_count": 30,
   "metadata": {},
   "outputs": [
    {
     "name": "stdout",
     "output_type": "stream",
     "text": [
      "4\n",
      "4\n",
      "1\n"
     ]
    }
   ],
   "source": [
    "# TEST CASES\n",
    "print(longestSubsequence([10,9,2,5,3,7,101,18]))\n",
    "print(longestSubsequence([0,1,0,3,2,3]))\n",
    "print(longestSubsequence([1, 1, 1]))"
   ]
  }
 ],
 "metadata": {
  "kernelspec": {
   "display_name": "base",
   "language": "python",
   "name": "python3"
  },
  "language_info": {
   "codemirror_mode": {
    "name": "ipython",
    "version": 3
   },
   "file_extension": ".py",
   "mimetype": "text/x-python",
   "name": "python",
   "nbconvert_exporter": "python",
   "pygments_lexer": "ipython3",
   "version": "3.11.4"
  }
 },
 "nbformat": 4,
 "nbformat_minor": 2
}
